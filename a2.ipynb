{
 "cells": [
  {
   "cell_type": "code",
   "execution_count": 1,
   "metadata": {},
   "outputs": [],
   "source": [
    "# package\n",
    "import pandas as pd\n",
    "import numpy as np"
   ]
  },
  {
   "cell_type": "code",
   "execution_count": 11,
   "metadata": {},
   "outputs": [
    {
     "data": {
      "text/plain": [
       "array([[40, 50],\n",
       "       [45, 68],\n",
       "       [45, 70],\n",
       "       [42, 66],\n",
       "       [42, 68],\n",
       "       [42, 65],\n",
       "       [40, 69],\n",
       "       [40, 66],\n",
       "       [38, 68],\n",
       "       [38, 70],\n",
       "       [35, 66],\n",
       "       [35, 69],\n",
       "       [25, 85],\n",
       "       [22, 75],\n",
       "       [22, 85],\n",
       "       [20, 80],\n",
       "       [20, 85],\n",
       "       [18, 75],\n",
       "       [15, 75],\n",
       "       [15, 80],\n",
       "       [30, 50],\n",
       "       [30, 52],\n",
       "       [28, 52],\n",
       "       [28, 55],\n",
       "       [25, 50],\n",
       "       [25, 52],\n",
       "       [40, 50]], dtype=int64)"
      ]
     },
     "execution_count": 11,
     "metadata": {},
     "output_type": "execute_result"
    }
   ],
   "source": [
    "sheet = pd.read_excel('test.xlsx')\n",
    "location = np.array(sheet[['long','lat']])"
   ]
  },
  {
   "cell_type": "code",
   "execution_count": 18,
   "metadata": {},
   "outputs": [],
   "source": [
    "def distancematrix(location):\n",
    "    len = np.shape(location)[0]\n",
    "    matrix = np.zeros([len,len])\n",
    "    for i in range(0,len):\n",
    "        for j in range(0,len):\n",
    "            matrix[i,j] = np.round(np.sqrt(np.square(location[i,0]-location[j,0])+np.square(location[i,1]-location[j,1])),0)\n",
    "    \n",
    "    return matrix\n",
    "\n",
    "dismatrix = distancematrix(location)\n",
    "# dismatrix.astype(np.int32)\n",
    "dismatrix\n",
    "\n",
    "np.savetxt(\"new.csv\", dismatrix, delimiter=',')"
   ]
  }
 ],
 "metadata": {
  "interpreter": {
   "hash": "cef9e06bb236b2a8629b07e87a04b187b952a0f661eff5533360a155783f0c33"
  },
  "kernelspec": {
   "display_name": "Python 3.8.8 ('base')",
   "language": "python",
   "name": "python3"
  },
  "language_info": {
   "codemirror_mode": {
    "name": "ipython",
    "version": 3
   },
   "file_extension": ".py",
   "mimetype": "text/x-python",
   "name": "python",
   "nbconvert_exporter": "python",
   "pygments_lexer": "ipython3",
   "version": "3.8.8"
  },
  "orig_nbformat": 4
 },
 "nbformat": 4,
 "nbformat_minor": 2
}
