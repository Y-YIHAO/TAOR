{
 "cells": [
  {
   "cell_type": "code",
   "execution_count": 36,
   "metadata": {},
   "outputs": [
    {
     "name": "stdout",
     "output_type": "stream",
     "text": [
      "689\n"
     ]
    }
   ],
   "source": [
    "filename = \"part2.txt\"\n",
    "myfile = open(filename,encoding='utf-8') \n",
    "lines = len(myfile.readlines()) \n",
    "print(lines)"
   ]
  },
  {
   "cell_type": "code",
   "execution_count": 37,
   "metadata": {},
   "outputs": [],
   "source": [
    "import re\n",
    "file='part1.txt'\n",
    "def appoint_line(num,file):\n",
    "    with open(file,\"r\",encoding='utf-8') as f:\n",
    "        out = f.readlines(num-1)\n",
    "        return out\n",
    "out=appoint_line(1,filename)\n",
    "long =[]\n",
    "lat = []\n",
    "num = 12\n",
    "\n",
    "pattern = r'\\t\\t\\t\\t\\t<coordinates>|,0</coordinates>\\n|,'\n",
    "while num<lines:\n",
    "    a=out[num]\n",
    "    h = re.split(pattern, a)\n",
    "    long.append(h[1])\n",
    "    lat.append(h[2])\n",
    "    num = num +12"
   ]
  },
  {
   "cell_type": "code",
   "execution_count": 38,
   "metadata": {},
   "outputs": [
    {
     "data": {
      "text/plain": [
       "57"
      ]
     },
     "execution_count": 38,
     "metadata": {},
     "output_type": "execute_result"
    }
   ],
   "source": [
    "len(long)"
   ]
  },
  {
   "cell_type": "code",
   "execution_count": 35,
   "metadata": {},
   "outputs": [],
   "source": [
    "from pandas.core.frame import DataFrame\n",
    "import pandas as pd\n",
    "c= {'long':long,\n",
    "'lat':lat}\n",
    "data=DataFrame(c)\n",
    "data.to_csv('part.csv', index = False)"
   ]
  }
 ],
 "metadata": {
  "interpreter": {
   "hash": "cef9e06bb236b2a8629b07e87a04b187b952a0f661eff5533360a155783f0c33"
  },
  "kernelspec": {
   "display_name": "Python 3.8.8 64-bit ('base': conda)",
   "language": "python",
   "name": "python3"
  },
  "language_info": {
   "codemirror_mode": {
    "name": "ipython",
    "version": 3
   },
   "file_extension": ".py",
   "mimetype": "text/x-python",
   "name": "python",
   "nbconvert_exporter": "python",
   "pygments_lexer": "ipython3",
   "version": "3.8.8"
  },
  "orig_nbformat": 4
 },
 "nbformat": 4,
 "nbformat_minor": 2
}
