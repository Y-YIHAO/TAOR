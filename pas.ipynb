{
 "cells": [
  {
   "cell_type": "code",
   "execution_count": 37,
   "metadata": {},
   "outputs": [],
   "source": [
    "import numpy as np\n",
    "import pandas as pd\n",
    "import random\n",
    "import math\n",
    "pd.set_option( 'display.max_columns', None) \n",
    "pd.set_option( 'display.max_rows', None)"
   ]
  },
  {
   "cell_type": "code",
   "execution_count": 68,
   "metadata": {},
   "outputs": [
    {
     "data": {
      "text/plain": [
       "[0, 12, 25, 180, 187, 196, 223, 250, 290, 291]"
      ]
     },
     "execution_count": 68,
     "metadata": {},
     "output_type": "execute_result"
    }
   ],
   "source": [
    "test = [0, 12, 13, 25, 28, 51,  91, 100, 102, 106, 127, 130, 180, 187,194, 196, 215, 219, 222, 223, 250, 264, 268, 290, 291, 293,306]\n",
    "\n",
    "test2 = [0, 12, 25,127, 180, 187, 196, 223, 250, 290, 291,306]"
   ]
  },
  {
   "cell_type": "code",
   "execution_count": 34,
   "metadata": {},
   "outputs": [],
   "source": [
    "def getdistancematrix(lat,long):\n",
    "    n = len(lat)\n",
    "    distancematrix = np.zeros([n,n])\n",
    "    for i in range(0,n):\n",
    "        for j in range(0,n):\n",
    "            distancematrix[i,j] = 1.3*69*math.sqrt(math.pow(lat[i]-lat[j],2)+math.pow(long[i]-long[j],2))\n",
    "\n",
    "    return distancematrix"
   ]
  },
  {
   "cell_type": "code",
   "execution_count": 65,
   "metadata": {},
   "outputs": [
    {
     "data": {
      "text/plain": [
       "47"
      ]
     },
     "execution_count": 65,
     "metadata": {},
     "output_type": "execute_result"
    }
   ],
   "source": [
    "C = 25\n",
    "data = pd.read_csv('processed_data.csv')\n",
    "demand = data['machine'].values\n",
    "tw = data[['start','end']].values\n",
    "long = data['long'].values\n",
    "lat = data['lat'].values\n",
    "\n",
    "dismatrix = getdistancematrix(lat,long)\n",
    "timematrix = np.round(2.4 * dismatrix,2)\n",
    "dismatrix = np.round(dismatrix,2)\n",
    "\n",
    "# for element in test:\n",
    "#     print(timematrix[element][test])\n",
    "np.sum(demand[test])"
   ]
  },
  {
   "cell_type": "code",
   "execution_count": 35,
   "metadata": {},
   "outputs": [],
   "source": [
    "path = [0,1,2,0,7,8,0]\n",
    "\n",
    "# calculate the distance\n",
    "def getdistance(path,dismatrix):\n",
    "    n = len(path)\n",
    "    distance = 0\n",
    "    for i in range(0,n-1):\n",
    "        distance += dismatrix[path[i],path[i+1]]\n",
    "    return distance\n",
    "\n",
    "# calculate invalid time\n",
    "def getinvalidtime(path,timematrix,tw):\n",
    "    n = len(path)\n",
    "    invalidtime = 0\n",
    "    ul = np.zeros(n)\n",
    "    for i in range(0,n):\n",
    "        invalidtime_i = 0\n",
    "        if path[i] ==0:\n",
    "            continue\n",
    "        else:\n",
    "            reachtime = ul[i-1] + timematrix[path[i-1],path[i]] + 30\n",
    "            if reachtime <= tw[i,0]:\n",
    "                ul[i] = tw[i,0]\n",
    "            elif tw[i,0]<reachtime<=tw[i,1]: \n",
    "                ul[i] = reachtime\n",
    "            else:\n",
    "                ul[i] = reachtime\n",
    "                invalidtime_i += reachtime - tw[i,1]\n",
    "            finishtime = reachtime+30\n",
    "            if finishtime > tw[i,1]:\n",
    "                invalidtime_i += finishtime-tw[i,1]\n",
    "        invalidtime += invalidtime_i\n",
    "    \n",
    "    return invalidtime\n",
    "\n",
    "# calculate invalid vehicle\n",
    "def getinvalidvehicle (path,demand,C):\n",
    "    invalidcap = 0\n",
    "    n = len(path)\n",
    "    acumcap = np.zeros(n)\n",
    "    for i in range(0,n):\n",
    "        if path[i] == 0:\n",
    "            continue\n",
    "        else:\n",
    "            acumcap[i] = acumcap[i-1] + demand[i]\n",
    "    \n",
    "    end = np.where(acumcap)[0]\n",
    "    end = np.delete(end,0)\n",
    "    for id in end:\n",
    "        if acumcap[id-1]>C:\n",
    "            invalidcap += C - acumcap[id-1]\n",
    "    return invalidcap\n",
    "\n",
    "def getobjective(path,distancecost,timepenalty,capacitypenalty,dismatrix,timematrix,tw,demand,C):\n",
    "    objective = distancecost*getdistance(path,dismatrix) + timepenalty*getinvalidtime(path,timematrix,tw)+capacitypenalty*getinvalidvehicle(path,demand,C)\n",
    "    return objective\n"
   ]
  },
  {
   "cell_type": "code",
   "execution_count": 40,
   "metadata": {},
   "outputs": [
    {
     "data": {
      "text/plain": [
       "0"
      ]
     },
     "execution_count": 40,
     "metadata": {},
     "output_type": "execute_result"
    }
   ],
   "source": [
    "path = [0,1,0,5,6,0]\n",
    "# getdistance(path,dismatrix)\n",
    "# getinvalidvehicle (path,demand,C)\n",
    "getinvalidtime(path,timematrix,tw)"
   ]
  },
  {
   "cell_type": "code",
   "execution_count": 194,
   "metadata": {},
   "outputs": [
    {
     "name": "stdout",
     "output_type": "stream",
     "text": [
      "[0, 1, 3, 4, 0, 8, 9, 0]\n",
      "[0, 8, 0, 4, 3, 1, 9, 0]\n"
     ]
    }
   ],
   "source": [
    "# solution generation\n",
    "path = [0,1,3,4,0,8,9,0]\n",
    "def swap(path):\n",
    "    n = len(path)\n",
    "    point = random.sample(range(1,n-1),2)\n",
    "    a = point[0]\n",
    "    b = point[1]\n",
    "    path[a],path[b] = path[b],path[a]\n",
    "    return path\n",
    "\n",
    "def insert(path):\n",
    "    n = len(path)\n",
    "    choose = random.sample(range(1,n-1),1)[0]\n",
    "    location = path[choose]\n",
    "    path.pop(choose)\n",
    "    path.insert(random.randint(1,n-2),location)\n",
    "\n",
    "    return path\n",
    "\n",
    "def cross(path):\n",
    "    n = len(path)\n",
    "    choose = sorted(random.sample(range(1,n-1),2))\n",
    "    a = choose[0]\n",
    "    b = choose[1]\n",
    "    route = path[a:b]\n",
    "    route.reverse()\n",
    "    path[a:b] = route\n",
    "    \n",
    "    return path"
   ]
  },
  {
   "cell_type": "code",
   "execution_count": 16,
   "metadata": {},
   "outputs": [
    {
     "data": {
      "text/plain": [
       "1"
      ]
     },
     "execution_count": 16,
     "metadata": {},
     "output_type": "execute_result"
    }
   ],
   "source": [
    "def choosemethod(successlist):\n",
    "    p = successlist/np.sum(successlist)\n",
    "    choice = np.random.choice([0, 1, 2], p = p.ravel())\n",
    "\n",
    "    return choice"
   ]
  },
  {
   "cell_type": "code",
   "execution_count": null,
   "metadata": {},
   "outputs": [],
   "source": [
    "test = [12, 13, 25, 28, 51,  91, 100, 102, 106, 127, 130, 180, 187,194, 196, 215, 219, 222, 223, 250, 264, 268, 290, 291, 293]"
   ]
  },
  {
   "cell_type": "code",
   "execution_count": 25,
   "metadata": {},
   "outputs": [
    {
     "data": {
      "text/plain": [
       "array([1., 1., 1.])"
      ]
     },
     "execution_count": 25,
     "metadata": {},
     "output_type": "execute_result"
    }
   ],
   "source": [
    "# main\n",
    "T = 500\n",
    "alpha = 0.99974\n",
    "FinalT = 0.001\n",
    "timepenalty = 300\n",
    "capacitypenalty = 500 \n",
    "distancecost = 2.9\n",
    "successlist = np.ones(3)\n",
    "oldpath = [0]\n",
    "\n",
    "while T > FinalT:\n",
    "    \n",
    "    methodchoice = choosemethod(successlist)\n",
    "    if methodchoice==0:\n",
    "        newpath = swap(oldpath)\n",
    "    elif methodchoice==1:\n",
    "        newpath = insert(oldpath)\n",
    "    else:\n",
    "        newpath = cross(oldpath)\n",
    "    oldobjective = getobjective(oldpath,distancecost,timepenalty,capacitypenalty,dismatrix,timematrix,tw,demand,C)\n",
    "    newobjective = getobjective(newpath,distancecost,timepenalty,capacitypenalty,dismatrix,timematrix,tw,demand,C)\n",
    "    d_value = newobjective - oldobjective\n",
    "    if d_value <=0:\n",
    "        # print('accept')\n",
    "        oldpath = newpath.copy()\n",
    "        successlist[methodchoice] +=1\n",
    "    else:\n",
    "        p = math.exp(-d_value / T)\n",
    "        if random.random() <=p:\n",
    "            #print('bad but accept')\n",
    "            oldpath = newpath.copy()\n",
    "    T = T* alpha"
   ]
  }
 ],
 "metadata": {
  "interpreter": {
   "hash": "cef9e06bb236b2a8629b07e87a04b187b952a0f661eff5533360a155783f0c33"
  },
  "kernelspec": {
   "display_name": "Python 3.8.8 ('base')",
   "language": "python",
   "name": "python3"
  },
  "language_info": {
   "codemirror_mode": {
    "name": "ipython",
    "version": 3
   },
   "file_extension": ".py",
   "mimetype": "text/x-python",
   "name": "python",
   "nbconvert_exporter": "python",
   "pygments_lexer": "ipython3",
   "version": "3.8.8"
  },
  "orig_nbformat": 4
 },
 "nbformat": 4,
 "nbformat_minor": 2
}
