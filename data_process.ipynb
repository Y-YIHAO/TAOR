{
 "cells": [
  {
   "cell_type": "code",
   "execution_count": 35,
   "metadata": {},
   "outputs": [
    {
     "name": "stdout",
     "output_type": "stream",
     "text": [
      "245\n"
     ]
    }
   ],
   "source": [
    "filename = \"test.txt\"\n",
    "myfile = open(filename,encoding='utf-8') \n",
    "lines = len(myfile.readlines()) \n",
    "print(lines)"
   ]
  },
  {
   "cell_type": "code",
   "execution_count": 43,
   "metadata": {},
   "outputs": [],
   "source": [
    "import re\n",
    "file='test.txt'\n",
    "def appoint_line(num,file):\n",
    "    with open(file,\"r\",encoding='utf-8') as f:\n",
    "        out = f.readlines(num-1)\n",
    "        return out\n",
    "out=appoint_line(1,\"test.txt\")\n",
    "long =[]\n",
    "lat = []\n",
    "num = 24\n",
    "pattern = r'\\t\\t\\t\\t\\t<coordinates>|,0</coordinates>\\n|,'\n",
    "while num<lines:\n",
    "\n",
    "    a=out[num]\n",
    "    h = re.split(pattern, a)\n",
    "    long.append(h[1])\n",
    "    lat.append(h[2])\n",
    "    num = num +24"
   ]
  },
  {
   "cell_type": "code",
   "execution_count": 45,
   "metadata": {},
   "outputs": [
    {
     "data": {
      "text/plain": [
       "['121.564399',\n",
       " '121.5667018',\n",
       " '121.5667018',\n",
       " '121.5667949',\n",
       " '121.5680015',\n",
       " '121.5577476',\n",
       " '121.5652046',\n",
       " '121.5731872',\n",
       " '121.573162',\n",
       " '121.5493278']"
      ]
     },
     "execution_count": 45,
     "metadata": {},
     "output_type": "execute_result"
    }
   ],
   "source": [
    "long"
   ]
  }
 ],
 "metadata": {
  "interpreter": {
   "hash": "cef9e06bb236b2a8629b07e87a04b187b952a0f661eff5533360a155783f0c33"
  },
  "kernelspec": {
   "display_name": "Python 3.8.8 64-bit ('base': conda)",
   "language": "python",
   "name": "python3"
  },
  "language_info": {
   "codemirror_mode": {
    "name": "ipython",
    "version": 3
   },
   "file_extension": ".py",
   "mimetype": "text/x-python",
   "name": "python",
   "nbconvert_exporter": "python",
   "pygments_lexer": "ipython3",
   "version": "3.8.8"
  },
  "orig_nbformat": 4
 },
 "nbformat": 4,
 "nbformat_minor": 2
}
